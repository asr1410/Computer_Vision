{
 "cells": [
  {
   "cell_type": "code",
   "execution_count": 3,
   "metadata": {},
   "outputs": [
    {
     "name": "stdout",
     "output_type": "stream",
     "text": [
      "Saved 500 frame\n",
      "Saved 1000 frame\n",
      "Saved 1500 frame\n",
      "Saved 2000 frame\n",
      "extracted frames saved to './Output/'.\n"
     ]
    }
   ],
   "source": [
    "import cv2\n",
    "import os\n",
    "import numpy as np\n",
    "\n",
    "\n",
    "def resize_image(image, new_row, new_col):\n",
    "    org_row, org_col = image.shape[:2]\n",
    "    resized_image = np.zeros((new_row, new_col, 3), dtype=np.uint8)\n",
    "    scaled_row = org_row / new_row\n",
    "    scaled_col = org_col / new_col\n",
    "    for row in range(new_row):\n",
    "        for col in range(new_col):\n",
    "            resized_image[row, col] = image[\n",
    "                int(scaled_row * row), int(scaled_col * col)\n",
    "            ].astype(np.uint8)\n",
    "    return resized_image\n",
    "\n",
    "\n",
    "video_file_path = \"1 Minute Timer.mp4\"\n",
    "output_folder = \"./Output/\"\n",
    "mod_value = 500\n",
    "if not os.path.exists(output_folder):\n",
    "    os.makedirs(output_folder)\n",
    "capture = cv2.VideoCapture(video_file_path)\n",
    "if not capture.isOpened():\n",
    "    print(\"cannot open file\")\n",
    "    exit()\n",
    "f_count = 0\n",
    "while True:\n",
    "    check, frame = capture.read()\n",
    "    if not check:\n",
    "        break\n",
    "    f_count += 1\n",
    "    if f_count % mod_value != 0:\n",
    "        continue\n",
    "    frame = resize_image(frame, 256, 256)\n",
    "    f_name = os.path.join(output_folder, f\"{f_count}.jpg\")\n",
    "    cv2.imwrite(f_name, frame)\n",
    "    print(f\"Saved {f_count} frame\")\n",
    "capture.release()\n",
    "cv2.destroyAllWindows()\n",
    "print(f\"extracted frames saved to '{output_folder}'.\")\n"
   ]
  }
 ],
 "metadata": {
  "kernelspec": {
   "display_name": "venv",
   "language": "python",
   "name": "python3"
  },
  "language_info": {
   "codemirror_mode": {
    "name": "ipython",
    "version": 3
   },
   "file_extension": ".py",
   "mimetype": "text/x-python",
   "name": "python",
   "nbconvert_exporter": "python",
   "pygments_lexer": "ipython3",
   "version": "3.9.6"
  }
 },
 "nbformat": 4,
 "nbformat_minor": 2
}
